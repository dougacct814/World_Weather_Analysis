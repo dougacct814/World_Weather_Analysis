{
 "cells": [
  {
   "cell_type": "code",
   "execution_count": 82,
   "metadata": {},
   "outputs": [],
   "source": [
    "# Import the dependencies.\n",
    "import pandas as pd\n",
    "import gmaps\n",
    "import gmaps.datasets\n",
    "import requests\n",
    "import numpy as np\n",
    "# Import the API key.\n",
    "from config import g_key"
   ]
  },
  {
   "cell_type": "code",
   "execution_count": 83,
   "metadata": {},
   "outputs": [],
   "source": [
    "gmaps.configure(api_key=g_key)"
   ]
  },
  {
   "cell_type": "code",
   "execution_count": 84,
   "metadata": {},
   "outputs": [],
   "source": [
    "# Store the CSV you saved created in part two into a DataFrame.\n",
    "city_data_df = pd.read_csv(\"weather_data/vacation_challenge.csv\")\n",
    "city_data_df.head()\n",
    "city_data_df.reset_index(drop=True, inplace=True)"
   ]
  },
  {
   "cell_type": "code",
   "execution_count": 85,
   "metadata": {},
   "outputs": [],
   "source": [
    "# Filter for US locations near each other\n",
    "my_locations_1_df = city_data_df.loc[city_data_df[\"City\"]==\"Palmer\"].copy()\n",
    "my_locations_2_df = city_data_df.loc[city_data_df[\"City\"]==\"Bethel\"].copy()\n",
    "my_locations_3_df = city_data_df.loc[city_data_df[\"City\"]==\"Westport\"].copy()\n",
    "my_locations_4_df = city_data_df.loc[city_data_df[\"City\"]==\"West Milford\"].copy()\n"
   ]
  },
  {
   "cell_type": "code",
   "execution_count": 86,
   "metadata": {},
   "outputs": [],
   "source": [
    "# Latitude-longitude pairs\n",
    "my_locations_1_coord=(my_locations_1_df['Lat'].max(), my_locations_1_df['Lng'].max())\n",
    "my_locations_2_coord=(my_locations_2_df['Lat'].max(), my_locations_2_df['Lng'].max())\n",
    "my_locations_3_coord=(my_locations_3_df['Lat'].max(), my_locations_3_df['Lng'].max())\n",
    "my_locations_4_coord=(my_locations_4_df['Lat'].max(), my_locations_4_df['Lng'].max())\n"
   ]
  },
  {
   "cell_type": "code",
   "execution_count": 87,
   "metadata": {
    "scrolled": true
   },
   "outputs": [
    {
     "data": {
      "text/html": [
       "<div>\n",
       "<style scoped>\n",
       "    .dataframe tbody tr th:only-of-type {\n",
       "        vertical-align: middle;\n",
       "    }\n",
       "\n",
       "    .dataframe tbody tr th {\n",
       "        vertical-align: top;\n",
       "    }\n",
       "\n",
       "    .dataframe thead th {\n",
       "        text-align: right;\n",
       "    }\n",
       "</style>\n",
       "<table border=\"1\" class=\"dataframe\">\n",
       "  <thead>\n",
       "    <tr style=\"text-align: right;\">\n",
       "      <th></th>\n",
       "      <th>City_ID</th>\n",
       "      <th>City</th>\n",
       "      <th>Country</th>\n",
       "      <th>Max Temp</th>\n",
       "      <th>Current Description</th>\n",
       "      <th>Lat</th>\n",
       "      <th>Lng</th>\n",
       "      <th>Hotel Name</th>\n",
       "    </tr>\n",
       "  </thead>\n",
       "  <tbody>\n",
       "    <tr>\n",
       "      <th>0</th>\n",
       "      <td>167</td>\n",
       "      <td>Bethel</td>\n",
       "      <td>US</td>\n",
       "      <td>53.60</td>\n",
       "      <td>Clouds</td>\n",
       "      <td>41.37</td>\n",
       "      <td>-73.41</td>\n",
       "      <td>Courtyard by Marriott Danbury</td>\n",
       "    </tr>\n",
       "    <tr>\n",
       "      <th>1</th>\n",
       "      <td>366</td>\n",
       "      <td>Palmer</td>\n",
       "      <td>US</td>\n",
       "      <td>62.60</td>\n",
       "      <td>Clouds</td>\n",
       "      <td>42.16</td>\n",
       "      <td>-72.33</td>\n",
       "      <td>Wedgewood Motel</td>\n",
       "    </tr>\n",
       "    <tr>\n",
       "      <th>2</th>\n",
       "      <td>463</td>\n",
       "      <td>West Milford</td>\n",
       "      <td>US</td>\n",
       "      <td>55.99</td>\n",
       "      <td>Clouds</td>\n",
       "      <td>41.13</td>\n",
       "      <td>-74.37</td>\n",
       "      <td>The Little Bear Inn - Bed and Breakfast</td>\n",
       "    </tr>\n",
       "    <tr>\n",
       "      <th>3</th>\n",
       "      <td>474</td>\n",
       "      <td>Westport</td>\n",
       "      <td>US</td>\n",
       "      <td>51.80</td>\n",
       "      <td>Clouds</td>\n",
       "      <td>41.14</td>\n",
       "      <td>-73.36</td>\n",
       "      <td>The Westport Inn</td>\n",
       "    </tr>\n",
       "  </tbody>\n",
       "</table>\n",
       "</div>"
      ],
      "text/plain": [
       "   City_ID          City Country  Max Temp Current Description    Lat    Lng  \\\n",
       "0      167        Bethel      US     53.60              Clouds  41.37 -73.41   \n",
       "1      366        Palmer      US     62.60              Clouds  42.16 -72.33   \n",
       "2      463  West Milford      US     55.99              Clouds  41.13 -74.37   \n",
       "3      474      Westport      US     51.80              Clouds  41.14 -73.36   \n",
       "\n",
       "                                Hotel Name  \n",
       "0            Courtyard by Marriott Danbury  \n",
       "1                          Wedgewood Motel  \n",
       "2  The Little Bear Inn - Bed and Breakfast  \n",
       "3                         The Westport Inn  "
      ]
     },
     "execution_count": 87,
     "metadata": {},
     "output_type": "execute_result"
    }
   ],
   "source": [
    "all_locations = city_data_df[(city_data_df[\"City\"]==\"Palmer\") | (city_data_df[\"City\"]==\"Bethel\")  | (city_data_df[\"City\"]==\"Westport\") | (city_data_df[\"City\"]==\"West Milford\")].copy()\n",
    "all_locations.reset_index(drop=True, inplace=True)\n",
    "all_locations\n",
    "\n",
    "#city_with_rain_snow = city_data_df[(city_data_df[\"Rain inches (last 3 hrs)\"] > 0) | (city_data_df[\"Snow inches (last 3 hrs)\"] > 0)]\n",
    "#city_with_rain_snow.count()\n",
    "\n"
   ]
  },
  {
   "cell_type": "code",
   "execution_count": 88,
   "metadata": {},
   "outputs": [
    {
     "data": {
      "text/html": [
       "<div>\n",
       "<style scoped>\n",
       "    .dataframe tbody tr th:only-of-type {\n",
       "        vertical-align: middle;\n",
       "    }\n",
       "\n",
       "    .dataframe tbody tr th {\n",
       "        vertical-align: top;\n",
       "    }\n",
       "\n",
       "    .dataframe thead th {\n",
       "        text-align: right;\n",
       "    }\n",
       "</style>\n",
       "<table border=\"1\" class=\"dataframe\">\n",
       "  <thead>\n",
       "    <tr style=\"text-align: right;\">\n",
       "      <th></th>\n",
       "      <th>City</th>\n",
       "      <th>Lat</th>\n",
       "      <th>Lng</th>\n",
       "    </tr>\n",
       "  </thead>\n",
       "  <tbody>\n",
       "    <tr>\n",
       "      <th>0</th>\n",
       "      <td>Bethel</td>\n",
       "      <td>41.37</td>\n",
       "      <td>-73.41</td>\n",
       "    </tr>\n",
       "    <tr>\n",
       "      <th>1</th>\n",
       "      <td>Palmer</td>\n",
       "      <td>42.16</td>\n",
       "      <td>-72.33</td>\n",
       "    </tr>\n",
       "    <tr>\n",
       "      <th>2</th>\n",
       "      <td>West Milford</td>\n",
       "      <td>41.13</td>\n",
       "      <td>-74.37</td>\n",
       "    </tr>\n",
       "    <tr>\n",
       "      <th>3</th>\n",
       "      <td>Westport</td>\n",
       "      <td>41.14</td>\n",
       "      <td>-73.36</td>\n",
       "    </tr>\n",
       "  </tbody>\n",
       "</table>\n",
       "</div>"
      ],
      "text/plain": [
       "           City    Lat    Lng\n",
       "0        Bethel  41.37 -73.41\n",
       "1        Palmer  42.16 -72.33\n",
       "2  West Milford  41.13 -74.37\n",
       "3      Westport  41.14 -73.36"
      ]
     },
     "execution_count": 88,
     "metadata": {},
     "output_type": "execute_result"
    }
   ],
   "source": [
    "all_locations_coordinates = all_locations[[\"City\", \"Lat\", \"Lng\"]]\n",
    "all_locations_coordinates"
   ]
  },
  {
   "cell_type": "code",
   "execution_count": 89,
   "metadata": {},
   "outputs": [],
   "source": [
    "# Latitude-longitude pairs\n",
    "Bethel = (41.37, -73.41)\n",
    "Palmer = (42.16, -72.33)\n",
    "West_Milford = (41.13, -74.37)\n",
    "Westport = (41.14, -73.36)\n"
   ]
  },
  {
   "cell_type": "code",
   "execution_count": 90,
   "metadata": {},
   "outputs": [
    {
     "data": {
      "application/vnd.jupyter.widget-view+json": {
       "model_id": "e52936547a0742fe8cbb425f86553380",
       "version_major": 2,
       "version_minor": 0
      },
      "text/plain": [
       "Figure(layout=FigureLayout(height='420px'))"
      ]
     },
     "metadata": {},
     "output_type": "display_data"
    }
   ],
   "source": [
    "fig = gmaps.figure()\n",
    "directions = gmaps.directions_layer(\n",
    "        Bethel, Palmer, waypoints=[Westport, West_Milford],\n",
    "        travel_mode='DRIVING')\n",
    "fig.add_layer(directions)\n",
    "\n",
    "fig"
   ]
  },
  {
   "cell_type": "code",
   "execution_count": 91,
   "metadata": {},
   "outputs": [
    {
     "data": {
      "text/html": [
       "<div>\n",
       "<style scoped>\n",
       "    .dataframe tbody tr th:only-of-type {\n",
       "        vertical-align: middle;\n",
       "    }\n",
       "\n",
       "    .dataframe tbody tr th {\n",
       "        vertical-align: top;\n",
       "    }\n",
       "\n",
       "    .dataframe thead th {\n",
       "        text-align: right;\n",
       "    }\n",
       "</style>\n",
       "<table border=\"1\" class=\"dataframe\">\n",
       "  <thead>\n",
       "    <tr style=\"text-align: right;\">\n",
       "      <th></th>\n",
       "      <th>City_ID</th>\n",
       "      <th>City</th>\n",
       "      <th>Country</th>\n",
       "      <th>Max Temp</th>\n",
       "      <th>Current Description</th>\n",
       "      <th>Lat</th>\n",
       "      <th>Lng</th>\n",
       "      <th>Hotel Name</th>\n",
       "    </tr>\n",
       "  </thead>\n",
       "  <tbody>\n",
       "    <tr>\n",
       "      <th>0</th>\n",
       "      <td>167</td>\n",
       "      <td>Bethel</td>\n",
       "      <td>US</td>\n",
       "      <td>53.60</td>\n",
       "      <td>Clouds</td>\n",
       "      <td>41.37</td>\n",
       "      <td>-73.41</td>\n",
       "      <td>Courtyard by Marriott Danbury</td>\n",
       "    </tr>\n",
       "    <tr>\n",
       "      <th>1</th>\n",
       "      <td>366</td>\n",
       "      <td>Palmer</td>\n",
       "      <td>US</td>\n",
       "      <td>62.60</td>\n",
       "      <td>Clouds</td>\n",
       "      <td>42.16</td>\n",
       "      <td>-72.33</td>\n",
       "      <td>Wedgewood Motel</td>\n",
       "    </tr>\n",
       "    <tr>\n",
       "      <th>2</th>\n",
       "      <td>463</td>\n",
       "      <td>West Milford</td>\n",
       "      <td>US</td>\n",
       "      <td>55.99</td>\n",
       "      <td>Clouds</td>\n",
       "      <td>41.13</td>\n",
       "      <td>-74.37</td>\n",
       "      <td>The Little Bear Inn - Bed and Breakfast</td>\n",
       "    </tr>\n",
       "    <tr>\n",
       "      <th>3</th>\n",
       "      <td>474</td>\n",
       "      <td>Westport</td>\n",
       "      <td>US</td>\n",
       "      <td>51.80</td>\n",
       "      <td>Clouds</td>\n",
       "      <td>41.14</td>\n",
       "      <td>-73.36</td>\n",
       "      <td>The Westport Inn</td>\n",
       "    </tr>\n",
       "  </tbody>\n",
       "</table>\n",
       "</div>"
      ],
      "text/plain": [
       "   City_ID          City Country  Max Temp Current Description    Lat    Lng  \\\n",
       "0      167        Bethel      US     53.60              Clouds  41.37 -73.41   \n",
       "1      366        Palmer      US     62.60              Clouds  42.16 -72.33   \n",
       "2      463  West Milford      US     55.99              Clouds  41.13 -74.37   \n",
       "3      474      Westport      US     51.80              Clouds  41.14 -73.36   \n",
       "\n",
       "                                Hotel Name  \n",
       "0            Courtyard by Marriott Danbury  \n",
       "1                          Wedgewood Motel  \n",
       "2  The Little Bear Inn - Bed and Breakfast  \n",
       "3                         The Westport Inn  "
      ]
     },
     "execution_count": 91,
     "metadata": {},
     "output_type": "execute_result"
    }
   ],
   "source": [
    "all_locations"
   ]
  },
  {
   "cell_type": "code",
   "execution_count": 106,
   "metadata": {},
   "outputs": [],
   "source": [
    "info_box_template = \"\"\"\n",
    "<dl>\n",
    "<dt>Hotel Name</dt><dd>{Hotel Name}</dd>\n",
    "<dt>City</dt><dd>{City}</dd>\n",
    "<dt>Country</dt><dd>{Country}</dd>\n",
    "<dt>Current Weather</dt><dd>{Current Description} and {Max Temp}°F</dd>\n",
    "</dl>\n",
    "\"\"\""
   ]
  },
  {
   "cell_type": "code",
   "execution_count": 107,
   "metadata": {},
   "outputs": [],
   "source": [
    "# Store the DataFrame Row.\n",
    "hotel_info = [info_box_template.format(**row) for index, row in all_locations.iterrows()]"
   ]
  },
  {
   "cell_type": "code",
   "execution_count": 108,
   "metadata": {},
   "outputs": [
    {
     "data": {
      "application/vnd.jupyter.widget-view+json": {
       "model_id": "05564a80f8d54bbc8fcbe3878747822f",
       "version_major": 2,
       "version_minor": 0
      },
      "text/plain": [
       "Figure(layout=FigureLayout(height='420px'))"
      ]
     },
     "metadata": {},
     "output_type": "display_data"
    }
   ],
   "source": [
    "# Add a map of the locations\n",
    "locations = all_locations[[\"Lat\", \"Lng\"]]\n",
    "max_temp = all_locations[\"Max Temp\"]\n",
    "fig = gmaps.figure(center=(30.0, 31.0), zoom_level=1.5)\n",
    "\n",
    "marker_layer = gmaps.marker_layer(locations, info_box_content=hotel_info)\n",
    "\n",
    "fig.add_layer(marker_layer)\n",
    "\n",
    "# Call the figure to plot the data.\n",
    "fig"
   ]
  },
  {
   "cell_type": "code",
   "execution_count": null,
   "metadata": {},
   "outputs": [],
   "source": []
  }
 ],
 "metadata": {
  "kernelspec": {
   "display_name": "PythonData",
   "language": "python",
   "name": "pythondata"
  },
  "language_info": {
   "codemirror_mode": {
    "name": "ipython",
    "version": 3
   },
   "file_extension": ".py",
   "mimetype": "text/x-python",
   "name": "python",
   "nbconvert_exporter": "python",
   "pygments_lexer": "ipython3",
   "version": "3.7.7"
  }
 },
 "nbformat": 4,
 "nbformat_minor": 4
}
